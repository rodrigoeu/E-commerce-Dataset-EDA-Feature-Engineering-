{
 "cells": [
  {
   "cell_type": "markdown",
   "id": "8779f872",
   "metadata": {},
   "source": [
    "# Pré-Processamento - E-commerce Dataset - Descrição do Problema"
   ]
  },
  {
   "cell_type": "markdown",
   "id": "96476c9e",
   "metadata": {
    "ExecuteTime": {
     "end_time": "2022-05-16T22:54:00.645287Z",
     "start_time": "2022-05-16T22:54:00.628307Z"
    }
   },
   "source": [
    "**PARA ESTA FASE DE PRÉ-PROCESSAMENTO, SERÁ UTILIZADO O DATASET DESCRITO ABAIXO, PORÉM APÓS HAVER SIDO REALIZADA ENGENHARIA DE ATRIBUTOS NO MESMO**\n",
    "\n",
    "**Uma empresa internacional de comércio eletrônico(E-commerce)que vende produtos eletrônicos deseja descobrir informações importantes de seu banco de dados de clientes.** \n",
    "\n",
    "**Os produtos ficam armazenados em um armazém na sede da empresa. Após concluir a compra no web site da empresa, o cliente recebe o produto em casa, em qualquer parte do mundo.**  \n",
    "\n",
    "**Os  produtos  são  enviados  de  Navio,  Avião  ou  Caminhão,  dependendo  da  região  de entrega.** \n",
    "\n",
    "**Em cada compra o cliente pode receber um desconto dependendo do peso do produto comprado.** \n",
    "\n",
    "**Cada cliente pode fazer chamadas ao suporte da empresa no caso de dúvidas ou problemas e após receber o produto o cliente pode deixar uma avaliação sobre a experiência de compra.** \n",
    "\n",
    "**O único dado pessoal sobre o cliente que está disponível é o gênero.**\n",
    "\n",
    "**Fonte dos dados: Serão utilizados dados fictícios que representam dados reais de uma empresa de E-Commerce.**"
   ]
  },
  {
   "cell_type": "markdown",
   "id": "406c127c",
   "metadata": {
    "heading_collapsed": true
   },
   "source": [
    "# Imports e Ignorando Warnings"
   ]
  },
  {
   "cell_type": "code",
   "execution_count": 1,
   "id": "42a5457c",
   "metadata": {
    "ExecuteTime": {
     "end_time": "2022-05-17T22:24:03.250452Z",
     "start_time": "2022-05-17T22:23:51.098705Z"
    },
    "hidden": true
   },
   "outputs": [],
   "source": [
    "import sklearn\n",
    "from sklearn.preprocessing import LabelEncoder, MinMaxScaler, StandardScaler \n",
    "import pandas as pd\n",
    "import numpy as np\n",
    "from IPython.display import Image\n",
    "import warnings\n",
    "warnings.filterwarnings(\"ignore\")"
   ]
  },
  {
   "cell_type": "markdown",
   "id": "dc73472f",
   "metadata": {
    "heading_collapsed": true
   },
   "source": [
    "# Carregando o Dataset"
   ]
  },
  {
   "cell_type": "code",
   "execution_count": 2,
   "id": "8f054891",
   "metadata": {
    "ExecuteTime": {
     "end_time": "2022-05-17T22:24:03.350146Z",
     "start_time": "2022-05-17T22:24:03.254404Z"
    },
    "hidden": true
   },
   "outputs": [],
   "source": [
    "df = pd.read_csv('dados/df_eng.csv', index_col = 0)"
   ]
  },
  {
   "cell_type": "code",
   "execution_count": 3,
   "id": "15335228",
   "metadata": {
    "ExecuteTime": {
     "end_time": "2022-05-17T22:24:03.435923Z",
     "start_time": "2022-05-17T22:24:03.352142Z"
    },
    "hidden": true
   },
   "outputs": [
    {
     "data": {
      "text/html": [
       "<div>\n",
       "<style scoped>\n",
       "    .dataframe tbody tr th:only-of-type {\n",
       "        vertical-align: middle;\n",
       "    }\n",
       "\n",
       "    .dataframe tbody tr th {\n",
       "        vertical-align: top;\n",
       "    }\n",
       "\n",
       "    .dataframe thead th {\n",
       "        text-align: right;\n",
       "    }\n",
       "</style>\n",
       "<table border=\"1\" class=\"dataframe\">\n",
       "  <thead>\n",
       "    <tr style=\"text-align: right;\">\n",
       "      <th></th>\n",
       "      <th>ID</th>\n",
       "      <th>corredor_armazem</th>\n",
       "      <th>modo_envio</th>\n",
       "      <th>numero_chamadas_cliente</th>\n",
       "      <th>avaliacao_cliente</th>\n",
       "      <th>custo_produto</th>\n",
       "      <th>compras_anteriores</th>\n",
       "      <th>prioridade_produto</th>\n",
       "      <th>genero</th>\n",
       "      <th>desconto</th>\n",
       "      <th>peso_gramas</th>\n",
       "      <th>entregue_no_prazo</th>\n",
       "      <th>performance_prioridade_envio</th>\n",
       "      <th>performance_modo_envio</th>\n",
       "      <th>faixa_desconto</th>\n",
       "      <th>performance_faixa_desconto</th>\n",
       "      <th>faixa_peso</th>\n",
       "    </tr>\n",
       "  </thead>\n",
       "  <tbody>\n",
       "    <tr>\n",
       "      <th>1414</th>\n",
       "      <td>1415</td>\n",
       "      <td>C</td>\n",
       "      <td>Navio</td>\n",
       "      <td>6</td>\n",
       "      <td>5</td>\n",
       "      <td>225</td>\n",
       "      <td>6</td>\n",
       "      <td>baixa</td>\n",
       "      <td>F</td>\n",
       "      <td>55</td>\n",
       "      <td>2052</td>\n",
       "      <td>1</td>\n",
       "      <td>Não Houve Atraso</td>\n",
       "      <td>Não Houve Atraso</td>\n",
       "      <td>desconto acima da média</td>\n",
       "      <td>Entrega no Prazo com Desconto Acima da Média</td>\n",
       "      <td>Abaixo da Média</td>\n",
       "    </tr>\n",
       "    <tr>\n",
       "      <th>8227</th>\n",
       "      <td>8228</td>\n",
       "      <td>F</td>\n",
       "      <td>Aviao</td>\n",
       "      <td>3</td>\n",
       "      <td>4</td>\n",
       "      <td>224</td>\n",
       "      <td>3</td>\n",
       "      <td>baixa</td>\n",
       "      <td>F</td>\n",
       "      <td>10</td>\n",
       "      <td>4806</td>\n",
       "      <td>1</td>\n",
       "      <td>Não Houve Atraso</td>\n",
       "      <td>Não Houve Atraso</td>\n",
       "      <td>desconto abaixo da média</td>\n",
       "      <td>Entrega no Prazo com Desconto Abaixo da Média</td>\n",
       "      <td>Acima da Média</td>\n",
       "    </tr>\n",
       "    <tr>\n",
       "      <th>5662</th>\n",
       "      <td>5663</td>\n",
       "      <td>C</td>\n",
       "      <td>Navio</td>\n",
       "      <td>4</td>\n",
       "      <td>2</td>\n",
       "      <td>237</td>\n",
       "      <td>3</td>\n",
       "      <td>baixa</td>\n",
       "      <td>M</td>\n",
       "      <td>2</td>\n",
       "      <td>5277</td>\n",
       "      <td>0</td>\n",
       "      <td>Atraso Tolerável</td>\n",
       "      <td>Atraso Tolerável na Entrega Por Navio</td>\n",
       "      <td>desconto abaixo da média</td>\n",
       "      <td>Atraso na Entrega com Desconto Abaixo da Média</td>\n",
       "      <td>Acima da Média</td>\n",
       "    </tr>\n",
       "    <tr>\n",
       "      <th>6068</th>\n",
       "      <td>6069</td>\n",
       "      <td>A</td>\n",
       "      <td>Navio</td>\n",
       "      <td>4</td>\n",
       "      <td>1</td>\n",
       "      <td>224</td>\n",
       "      <td>4</td>\n",
       "      <td>media</td>\n",
       "      <td>F</td>\n",
       "      <td>5</td>\n",
       "      <td>4887</td>\n",
       "      <td>0</td>\n",
       "      <td>Atraso Problemático</td>\n",
       "      <td>Atraso Problemático na Entrega Por Navio</td>\n",
       "      <td>desconto abaixo da média</td>\n",
       "      <td>Atraso na Entrega com Desconto Abaixo da Média</td>\n",
       "      <td>Acima da Média</td>\n",
       "    </tr>\n",
       "    <tr>\n",
       "      <th>8932</th>\n",
       "      <td>8933</td>\n",
       "      <td>C</td>\n",
       "      <td>Navio</td>\n",
       "      <td>6</td>\n",
       "      <td>3</td>\n",
       "      <td>258</td>\n",
       "      <td>4</td>\n",
       "      <td>media</td>\n",
       "      <td>M</td>\n",
       "      <td>9</td>\n",
       "      <td>1924</td>\n",
       "      <td>0</td>\n",
       "      <td>Atraso Problemático</td>\n",
       "      <td>Atraso Problemático na Entrega Por Navio</td>\n",
       "      <td>desconto abaixo da média</td>\n",
       "      <td>Atraso na Entrega com Desconto Abaixo da Média</td>\n",
       "      <td>Abaixo da Média</td>\n",
       "    </tr>\n",
       "  </tbody>\n",
       "</table>\n",
       "</div>"
      ],
      "text/plain": [
       "        ID corredor_armazem modo_envio  numero_chamadas_cliente  \\\n",
       "1414  1415                C      Navio                        6   \n",
       "8227  8228                F      Aviao                        3   \n",
       "5662  5663                C      Navio                        4   \n",
       "6068  6069                A      Navio                        4   \n",
       "8932  8933                C      Navio                        6   \n",
       "\n",
       "      avaliacao_cliente  custo_produto  compras_anteriores prioridade_produto  \\\n",
       "1414                  5            225                   6              baixa   \n",
       "8227                  4            224                   3              baixa   \n",
       "5662                  2            237                   3              baixa   \n",
       "6068                  1            224                   4              media   \n",
       "8932                  3            258                   4              media   \n",
       "\n",
       "     genero  desconto  peso_gramas  entregue_no_prazo  \\\n",
       "1414      F        55         2052                  1   \n",
       "8227      F        10         4806                  1   \n",
       "5662      M         2         5277                  0   \n",
       "6068      F         5         4887                  0   \n",
       "8932      M         9         1924                  0   \n",
       "\n",
       "     performance_prioridade_envio                    performance_modo_envio  \\\n",
       "1414             Não Houve Atraso                          Não Houve Atraso   \n",
       "8227             Não Houve Atraso                          Não Houve Atraso   \n",
       "5662             Atraso Tolerável     Atraso Tolerável na Entrega Por Navio   \n",
       "6068          Atraso Problemático  Atraso Problemático na Entrega Por Navio   \n",
       "8932          Atraso Problemático  Atraso Problemático na Entrega Por Navio   \n",
       "\n",
       "                faixa_desconto  \\\n",
       "1414   desconto acima da média   \n",
       "8227  desconto abaixo da média   \n",
       "5662  desconto abaixo da média   \n",
       "6068  desconto abaixo da média   \n",
       "8932  desconto abaixo da média   \n",
       "\n",
       "                          performance_faixa_desconto       faixa_peso  \n",
       "1414    Entrega no Prazo com Desconto Acima da Média  Abaixo da Média  \n",
       "8227   Entrega no Prazo com Desconto Abaixo da Média   Acima da Média  \n",
       "5662  Atraso na Entrega com Desconto Abaixo da Média   Acima da Média  \n",
       "6068  Atraso na Entrega com Desconto Abaixo da Média   Acima da Média  \n",
       "8932  Atraso na Entrega com Desconto Abaixo da Média  Abaixo da Média  "
      ]
     },
     "execution_count": 3,
     "metadata": {},
     "output_type": "execute_result"
    }
   ],
   "source": [
    "df.sample(5)"
   ]
  },
  {
   "cell_type": "code",
   "execution_count": 4,
   "id": "60fcfccf",
   "metadata": {
    "ExecuteTime": {
     "end_time": "2022-05-17T22:24:03.451875Z",
     "start_time": "2022-05-17T22:24:03.442900Z"
    },
    "hidden": true
   },
   "outputs": [
    {
     "data": {
      "text/plain": [
       "(10643, 17)"
      ]
     },
     "execution_count": 4,
     "metadata": {},
     "output_type": "execute_result"
    }
   ],
   "source": [
    "df.shape"
   ]
  },
  {
   "cell_type": "code",
   "execution_count": 5,
   "id": "d33eb653",
   "metadata": {
    "ExecuteTime": {
     "end_time": "2022-05-17T22:24:03.499747Z",
     "start_time": "2022-05-17T22:24:03.454868Z"
    },
    "hidden": true
   },
   "outputs": [
    {
     "name": "stdout",
     "output_type": "stream",
     "text": [
      "<class 'pandas.core.frame.DataFrame'>\n",
      "Int64Index: 10643 entries, 0 to 10999\n",
      "Data columns (total 17 columns):\n",
      " #   Column                        Non-Null Count  Dtype \n",
      "---  ------                        --------------  ----- \n",
      " 0   ID                            10643 non-null  int64 \n",
      " 1   corredor_armazem              10643 non-null  object\n",
      " 2   modo_envio                    10643 non-null  object\n",
      " 3   numero_chamadas_cliente       10643 non-null  int64 \n",
      " 4   avaliacao_cliente             10643 non-null  int64 \n",
      " 5   custo_produto                 10643 non-null  int64 \n",
      " 6   compras_anteriores            10643 non-null  int64 \n",
      " 7   prioridade_produto            10643 non-null  object\n",
      " 8   genero                        10643 non-null  object\n",
      " 9   desconto                      10643 non-null  int64 \n",
      " 10  peso_gramas                   10643 non-null  int64 \n",
      " 11  entregue_no_prazo             10643 non-null  int64 \n",
      " 12  performance_prioridade_envio  10643 non-null  object\n",
      " 13  performance_modo_envio        10643 non-null  object\n",
      " 14  faixa_desconto                10643 non-null  object\n",
      " 15  performance_faixa_desconto    10643 non-null  object\n",
      " 16  faixa_peso                    10643 non-null  object\n",
      "dtypes: int64(8), object(9)\n",
      "memory usage: 1.5+ MB\n"
     ]
    }
   ],
   "source": [
    "df.info()"
   ]
  },
  {
   "cell_type": "code",
   "execution_count": 6,
   "id": "02656138",
   "metadata": {
    "ExecuteTime": {
     "end_time": "2022-05-17T22:24:03.530665Z",
     "start_time": "2022-05-17T22:24:03.505733Z"
    },
    "hidden": true
   },
   "outputs": [
    {
     "data": {
      "text/plain": [
       "Index(['ID', 'corredor_armazem', 'modo_envio', 'numero_chamadas_cliente',\n",
       "       'avaliacao_cliente', 'custo_produto', 'compras_anteriores',\n",
       "       'prioridade_produto', 'genero', 'desconto', 'peso_gramas',\n",
       "       'entregue_no_prazo', 'performance_prioridade_envio',\n",
       "       'performance_modo_envio', 'faixa_desconto',\n",
       "       'performance_faixa_desconto', 'faixa_peso'],\n",
       "      dtype='object')"
      ]
     },
     "execution_count": 6,
     "metadata": {},
     "output_type": "execute_result"
    }
   ],
   "source": [
    "df.columns"
   ]
  },
  {
   "cell_type": "markdown",
   "id": "92056fbc",
   "metadata": {
    "heading_collapsed": true
   },
   "source": [
    "# Label Encoding"
   ]
  },
  {
   "cell_type": "markdown",
   "id": "16a005ec",
   "metadata": {
    "hidden": true
   },
   "source": [
    "### Variável 'prioridade_produto'"
   ]
  },
  {
   "cell_type": "code",
   "execution_count": 7,
   "id": "40343049",
   "metadata": {
    "ExecuteTime": {
     "end_time": "2022-05-17T22:24:03.567568Z",
     "start_time": "2022-05-17T22:24:03.539641Z"
    },
    "hidden": true
   },
   "outputs": [
    {
     "data": {
      "text/plain": [
       "baixa    5174\n",
       "media    4587\n",
       "alta      882\n",
       "Name: prioridade_produto, dtype: int64"
      ]
     },
     "execution_count": 7,
     "metadata": {},
     "output_type": "execute_result"
    }
   ],
   "source": [
    "df['prioridade_produto'].value_counts()"
   ]
  },
  {
   "cell_type": "code",
   "execution_count": 8,
   "id": "25a6ed82",
   "metadata": {
    "ExecuteTime": {
     "end_time": "2022-05-17T22:24:03.588510Z",
     "start_time": "2022-05-17T22:24:03.576543Z"
    },
    "hidden": true
   },
   "outputs": [],
   "source": [
    "dic_prioridade_produto = {'baixa' : 0, 'media' : 1, 'alta' : 2}"
   ]
  },
  {
   "cell_type": "code",
   "execution_count": 9,
   "id": "a2211845",
   "metadata": {
    "ExecuteTime": {
     "end_time": "2022-05-17T22:24:03.625414Z",
     "start_time": "2022-05-17T22:24:03.596488Z"
    },
    "hidden": true
   },
   "outputs": [],
   "source": [
    "df['prioridade_produto'] = df['prioridade_produto'].map(dic_prioridade_produto)"
   ]
  },
  {
   "cell_type": "code",
   "execution_count": 10,
   "id": "e3a1d192",
   "metadata": {
    "ExecuteTime": {
     "end_time": "2022-05-17T22:24:03.646354Z",
     "start_time": "2022-05-17T22:24:03.634388Z"
    },
    "hidden": true
   },
   "outputs": [
    {
     "data": {
      "text/plain": [
       "0    5174\n",
       "1    4587\n",
       "2     882\n",
       "Name: prioridade_produto, dtype: int64"
      ]
     },
     "execution_count": 10,
     "metadata": {},
     "output_type": "execute_result"
    }
   ],
   "source": [
    "df['prioridade_produto'].value_counts()"
   ]
  },
  {
   "cell_type": "markdown",
   "id": "aa4273c8",
   "metadata": {
    "hidden": true
   },
   "source": [
    "## Variável 'modo_envio'"
   ]
  },
  {
   "cell_type": "code",
   "execution_count": 11,
   "id": "36eaa360",
   "metadata": {
    "ExecuteTime": {
     "end_time": "2022-05-17T22:24:03.666305Z",
     "start_time": "2022-05-17T22:24:03.650345Z"
    },
    "hidden": true
   },
   "outputs": [
    {
     "data": {
      "text/plain": [
       "Navio       7212\n",
       "Aviao       1728\n",
       "Caminhao    1703\n",
       "Name: modo_envio, dtype: int64"
      ]
     },
     "execution_count": 11,
     "metadata": {},
     "output_type": "execute_result"
    }
   ],
   "source": [
    "df['modo_envio'].value_counts()"
   ]
  },
  {
   "cell_type": "code",
   "execution_count": 12,
   "id": "f7f4129c",
   "metadata": {
    "ExecuteTime": {
     "end_time": "2022-05-17T22:24:03.681261Z",
     "start_time": "2022-05-17T22:24:03.671288Z"
    },
    "hidden": true
   },
   "outputs": [],
   "source": [
    "dic_modo_envio = {'Navio' : 0, 'Aviao' : 1, 'Caminhao' : 2}"
   ]
  },
  {
   "cell_type": "code",
   "execution_count": 13,
   "id": "cc0a6a24",
   "metadata": {
    "ExecuteTime": {
     "end_time": "2022-05-17T22:24:03.697220Z",
     "start_time": "2022-05-17T22:24:03.684254Z"
    },
    "hidden": true
   },
   "outputs": [],
   "source": [
    "df['modo_envio'] = df['modo_envio'].map(dic_modo_envio)"
   ]
  },
  {
   "cell_type": "code",
   "execution_count": 14,
   "id": "78af6f4a",
   "metadata": {
    "ExecuteTime": {
     "end_time": "2022-05-17T22:24:03.718163Z",
     "start_time": "2022-05-17T22:24:03.703205Z"
    },
    "hidden": true
   },
   "outputs": [
    {
     "data": {
      "text/plain": [
       "0    7212\n",
       "1    1728\n",
       "2    1703\n",
       "Name: modo_envio, dtype: int64"
      ]
     },
     "execution_count": 14,
     "metadata": {},
     "output_type": "execute_result"
    }
   ],
   "source": [
    "df['modo_envio'].value_counts()"
   ]
  },
  {
   "cell_type": "markdown",
   "id": "6c339ca5",
   "metadata": {
    "hidden": true
   },
   "source": [
    "## Variável 'genero' (utilizando LabelEncoder())"
   ]
  },
  {
   "cell_type": "code",
   "execution_count": 15,
   "id": "f8bb0595",
   "metadata": {
    "ExecuteTime": {
     "end_time": "2022-05-17T22:24:03.734122Z",
     "start_time": "2022-05-17T22:24:03.722154Z"
    },
    "hidden": true
   },
   "outputs": [
    {
     "data": {
      "text/plain": [
       "F    5357\n",
       "M    5286\n",
       "Name: genero, dtype: int64"
      ]
     },
     "execution_count": 15,
     "metadata": {},
     "output_type": "execute_result"
    }
   ],
   "source": [
    "df['genero'].value_counts()"
   ]
  },
  {
   "cell_type": "code",
   "execution_count": 16,
   "id": "6fb92c46",
   "metadata": {
    "ExecuteTime": {
     "end_time": "2022-05-17T22:24:03.753070Z",
     "start_time": "2022-05-17T22:24:03.740105Z"
    },
    "hidden": true
   },
   "outputs": [],
   "source": [
    "le = LabelEncoder()"
   ]
  },
  {
   "cell_type": "code",
   "execution_count": 17,
   "id": "3b0ed14d",
   "metadata": {
    "ExecuteTime": {
     "end_time": "2022-05-17T22:24:03.777006Z",
     "start_time": "2022-05-17T22:24:03.756062Z"
    },
    "hidden": true
   },
   "outputs": [
    {
     "data": {
      "text/plain": [
       "LabelEncoder()"
      ]
     },
     "execution_count": 17,
     "metadata": {},
     "output_type": "execute_result"
    }
   ],
   "source": [
    "le.fit(df['genero'])"
   ]
  },
  {
   "cell_type": "code",
   "execution_count": 18,
   "id": "79ed5eb6",
   "metadata": {
    "ExecuteTime": {
     "end_time": "2022-05-17T22:24:03.788974Z",
     "start_time": "2022-05-17T22:24:03.779998Z"
    },
    "hidden": true
   },
   "outputs": [
    {
     "data": {
      "text/plain": [
       "['F', 'M']"
      ]
     },
     "execution_count": 18,
     "metadata": {},
     "output_type": "execute_result"
    }
   ],
   "source": [
    "list(le.classes_)"
   ]
  },
  {
   "cell_type": "code",
   "execution_count": 19,
   "id": "82304de8",
   "metadata": {
    "ExecuteTime": {
     "end_time": "2022-05-17T22:24:03.811913Z",
     "start_time": "2022-05-17T22:24:03.792964Z"
    },
    "hidden": true
   },
   "outputs": [],
   "source": [
    "df['genero'] = le.transform(df['genero'])"
   ]
  },
  {
   "cell_type": "code",
   "execution_count": 20,
   "id": "add35304",
   "metadata": {
    "ExecuteTime": {
     "end_time": "2022-05-17T22:24:03.830863Z",
     "start_time": "2022-05-17T22:24:03.814905Z"
    },
    "hidden": true
   },
   "outputs": [
    {
     "data": {
      "text/plain": [
       "0    5357\n",
       "1    5286\n",
       "Name: genero, dtype: int64"
      ]
     },
     "execution_count": 20,
     "metadata": {},
     "output_type": "execute_result"
    }
   ],
   "source": [
    "df['genero'].value_counts()"
   ]
  },
  {
   "cell_type": "markdown",
   "id": "b655a85b",
   "metadata": {
    "heading_collapsed": true
   },
   "source": [
    "# One-Hot Encoding"
   ]
  },
  {
   "cell_type": "code",
   "execution_count": 22,
   "id": "b229e364",
   "metadata": {
    "ExecuteTime": {
     "end_time": "2022-05-17T22:26:06.131292Z",
     "start_time": "2022-05-17T22:26:06.120323Z"
    },
    "hidden": true
   },
   "outputs": [
    {
     "data": {
      "text/plain": [
       "Index(['ID', 'corredor_armazem', 'modo_envio', 'numero_chamadas_cliente',\n",
       "       'avaliacao_cliente', 'custo_produto', 'compras_anteriores',\n",
       "       'prioridade_produto', 'genero', 'desconto', 'peso_gramas',\n",
       "       'entregue_no_prazo', 'performance_prioridade_envio',\n",
       "       'performance_modo_envio', 'faixa_desconto',\n",
       "       'performance_faixa_desconto', 'faixa_peso'],\n",
       "      dtype='object')"
      ]
     },
     "execution_count": 22,
     "metadata": {},
     "output_type": "execute_result"
    }
   ],
   "source": [
    "df.columns"
   ]
  },
  {
   "cell_type": "code",
   "execution_count": 24,
   "id": "39294319",
   "metadata": {
    "ExecuteTime": {
     "end_time": "2022-05-17T22:26:17.900648Z",
     "start_time": "2022-05-17T22:26:17.893630Z"
    },
    "hidden": true
   },
   "outputs": [
    {
     "data": {
      "text/plain": [
       "F    3539\n",
       "B    1778\n",
       "D    1777\n",
       "A    1777\n",
       "C    1772\n",
       "Name: corredor_armazem, dtype: int64"
      ]
     },
     "execution_count": 24,
     "metadata": {},
     "output_type": "execute_result"
    }
   ],
   "source": [
    "df['corredor_armazem'].value_counts()"
   ]
  },
  {
   "cell_type": "code",
   "execution_count": 29,
   "id": "fe23a64a",
   "metadata": {
    "ExecuteTime": {
     "end_time": "2022-05-17T22:28:27.534575Z",
     "start_time": "2022-05-17T22:28:27.523605Z"
    },
    "hidden": true
   },
   "outputs": [
    {
     "data": {
      "text/plain": [
       "desconto abaixo da média    8339\n",
       "desconto acima da média     2304\n",
       "Name: faixa_desconto, dtype: int64"
      ]
     },
     "execution_count": 29,
     "metadata": {},
     "output_type": "execute_result"
    }
   ],
   "source": [
    "df['faixa_desconto'].value_counts()"
   ]
  },
  {
   "cell_type": "code",
   "execution_count": 26,
   "id": "1d5004a7",
   "metadata": {
    "ExecuteTime": {
     "end_time": "2022-05-17T22:27:20.854771Z",
     "start_time": "2022-05-17T22:27:20.845797Z"
    },
    "hidden": true
   },
   "outputs": [
    {
     "data": {
      "text/plain": [
       "Não Houve Atraso       6282\n",
       "Atraso Tolerável       2134\n",
       "Atraso Problemático    1917\n",
       "Atraso Crítico          310\n",
       "Name: performance_prioridade_envio, dtype: int64"
      ]
     },
     "execution_count": 26,
     "metadata": {},
     "output_type": "execute_result"
    }
   ],
   "source": [
    "df['performance_prioridade_envio'].value_counts()"
   ]
  },
  {
   "cell_type": "code",
   "execution_count": 27,
   "id": "ecf53e2b",
   "metadata": {
    "ExecuteTime": {
     "end_time": "2022-05-17T22:27:28.508236Z",
     "start_time": "2022-05-17T22:27:28.499260Z"
    },
    "hidden": true
   },
   "outputs": [
    {
     "data": {
      "text/plain": [
       "Não Houve Atraso                               6282\n",
       "Atraso Tolerável na Entrega Por Navio          1453\n",
       "Atraso Problemático na Entrega Por Navio       1307\n",
       "Atraso Tolerável na Entrega Por Caminhao        350\n",
       "Atraso Tolerável na Entrega Por Aviao           331\n",
       "Atraso Problemático na Entrega Por Caminhao     310\n",
       "Atraso Problemático na Entrega Por Aviao        300\n",
       "Atraso Crítico na Entrega Por Navio             194\n",
       "Atraso Crítico na Entrega Por Aviao              65\n",
       "Atraso Crítico na Entrega Por Caminhao           51\n",
       "Name: performance_modo_envio, dtype: int64"
      ]
     },
     "execution_count": 27,
     "metadata": {},
     "output_type": "execute_result"
    }
   ],
   "source": [
    "df['performance_modo_envio'].value_counts()"
   ]
  },
  {
   "cell_type": "code",
   "execution_count": 28,
   "id": "ae2f7821",
   "metadata": {
    "ExecuteTime": {
     "end_time": "2022-05-17T22:27:52.956948Z",
     "start_time": "2022-05-17T22:27:52.949004Z"
    },
    "hidden": true
   },
   "outputs": [
    {
     "data": {
      "text/plain": [
       "Atraso na Entrega com Desconto Abaixo da Média    4361\n",
       "Entrega no Prazo com Desconto Abaixo da Média     3978\n",
       "Entrega no Prazo com Desconto Acima da Média      2304\n",
       "Name: performance_faixa_desconto, dtype: int64"
      ]
     },
     "execution_count": 28,
     "metadata": {},
     "output_type": "execute_result"
    }
   ],
   "source": [
    "df['performance_faixa_desconto'].value_counts()"
   ]
  },
  {
   "cell_type": "code",
   "execution_count": 30,
   "id": "59c9cfdb",
   "metadata": {
    "ExecuteTime": {
     "end_time": "2022-05-17T22:31:38.856688Z",
     "start_time": "2022-05-17T22:31:38.837739Z"
    },
    "hidden": true
   },
   "outputs": [],
   "source": [
    "for cat in ['performance_faixa_desconto', 'performance_modo_envio', 'performance_prioridade_envio', 'faixa_desconto', 'corredor_armazem']:\n",
    "    onehots = pd.get_dummies(df[cat], prefix = cat)\n",
    "    df = df.join(onehots)"
   ]
  },
  {
   "cell_type": "code",
   "execution_count": 31,
   "id": "8a88200d",
   "metadata": {
    "ExecuteTime": {
     "end_time": "2022-05-17T22:31:46.804095Z",
     "start_time": "2022-05-17T22:31:46.793124Z"
    },
    "hidden": true
   },
   "outputs": [
    {
     "data": {
      "text/plain": [
       "Index(['ID', 'corredor_armazem', 'modo_envio', 'numero_chamadas_cliente',\n",
       "       'avaliacao_cliente', 'custo_produto', 'compras_anteriores',\n",
       "       'prioridade_produto', 'genero', 'desconto', 'peso_gramas',\n",
       "       'entregue_no_prazo', 'performance_prioridade_envio',\n",
       "       'performance_modo_envio', 'faixa_desconto',\n",
       "       'performance_faixa_desconto', 'faixa_peso',\n",
       "       'performance_faixa_desconto_Atraso na Entrega com Desconto Abaixo da Média',\n",
       "       'performance_faixa_desconto_Entrega no Prazo com Desconto Abaixo da Média',\n",
       "       'performance_faixa_desconto_Entrega no Prazo com Desconto Acima da Média',\n",
       "       'performance_modo_envio_Atraso Crítico na Entrega Por Aviao',\n",
       "       'performance_modo_envio_Atraso Crítico na Entrega Por Caminhao',\n",
       "       'performance_modo_envio_Atraso Crítico na Entrega Por Navio',\n",
       "       'performance_modo_envio_Atraso Problemático na Entrega Por Aviao',\n",
       "       'performance_modo_envio_Atraso Problemático na Entrega Por Caminhao',\n",
       "       'performance_modo_envio_Atraso Problemático na Entrega Por Navio',\n",
       "       'performance_modo_envio_Atraso Tolerável na Entrega Por Aviao',\n",
       "       'performance_modo_envio_Atraso Tolerável na Entrega Por Caminhao',\n",
       "       'performance_modo_envio_Atraso Tolerável na Entrega Por Navio',\n",
       "       'performance_modo_envio_Não Houve Atraso',\n",
       "       'performance_prioridade_envio_Atraso Crítico',\n",
       "       'performance_prioridade_envio_Atraso Problemático',\n",
       "       'performance_prioridade_envio_Atraso Tolerável',\n",
       "       'performance_prioridade_envio_Não Houve Atraso',\n",
       "       'faixa_desconto_desconto abaixo da média',\n",
       "       'faixa_desconto_desconto acima da média', 'corredor_armazem_A',\n",
       "       'corredor_armazem_B', 'corredor_armazem_C', 'corredor_armazem_D',\n",
       "       'corredor_armazem_F'],\n",
       "      dtype='object')"
      ]
     },
     "execution_count": 31,
     "metadata": {},
     "output_type": "execute_result"
    }
   ],
   "source": [
    "df.columns"
   ]
  },
  {
   "cell_type": "code",
   "execution_count": 32,
   "id": "4d5059bb",
   "metadata": {
    "ExecuteTime": {
     "end_time": "2022-05-17T23:31:41.944478Z",
     "start_time": "2022-05-17T23:31:41.878622Z"
    },
    "hidden": true
   },
   "outputs": [],
   "source": [
    "df = df.drop(columns = ['performance_faixa_desconto', 'performance_modo_envio', 'performance_prioridade_envio', 'faixa_desconto', 'corredor_armazem'])"
   ]
  },
  {
   "cell_type": "code",
   "execution_count": 33,
   "id": "64dd70a1",
   "metadata": {
    "ExecuteTime": {
     "end_time": "2022-05-17T23:31:52.389772Z",
     "start_time": "2022-05-17T23:31:52.369791Z"
    },
    "hidden": true
   },
   "outputs": [],
   "source": [
    "df = df.drop(columns = 'ID')"
   ]
  },
  {
   "cell_type": "code",
   "execution_count": 34,
   "id": "1e3f0a82",
   "metadata": {
    "ExecuteTime": {
     "end_time": "2022-05-17T23:32:01.906329Z",
     "start_time": "2022-05-17T23:32:01.731906Z"
    },
    "hidden": true
   },
   "outputs": [
    {
     "data": {
      "text/html": [
       "<div>\n",
       "<style scoped>\n",
       "    .dataframe tbody tr th:only-of-type {\n",
       "        vertical-align: middle;\n",
       "    }\n",
       "\n",
       "    .dataframe tbody tr th {\n",
       "        vertical-align: top;\n",
       "    }\n",
       "\n",
       "    .dataframe thead th {\n",
       "        text-align: right;\n",
       "    }\n",
       "</style>\n",
       "<table border=\"1\" class=\"dataframe\">\n",
       "  <thead>\n",
       "    <tr style=\"text-align: right;\">\n",
       "      <th></th>\n",
       "      <th>modo_envio</th>\n",
       "      <th>numero_chamadas_cliente</th>\n",
       "      <th>avaliacao_cliente</th>\n",
       "      <th>custo_produto</th>\n",
       "      <th>compras_anteriores</th>\n",
       "      <th>prioridade_produto</th>\n",
       "      <th>genero</th>\n",
       "      <th>desconto</th>\n",
       "      <th>peso_gramas</th>\n",
       "      <th>entregue_no_prazo</th>\n",
       "      <th>...</th>\n",
       "      <th>performance_prioridade_envio_Atraso Problemático</th>\n",
       "      <th>performance_prioridade_envio_Atraso Tolerável</th>\n",
       "      <th>performance_prioridade_envio_Não Houve Atraso</th>\n",
       "      <th>faixa_desconto_desconto abaixo da média</th>\n",
       "      <th>faixa_desconto_desconto acima da média</th>\n",
       "      <th>corredor_armazem_A</th>\n",
       "      <th>corredor_armazem_B</th>\n",
       "      <th>corredor_armazem_C</th>\n",
       "      <th>corredor_armazem_D</th>\n",
       "      <th>corredor_armazem_F</th>\n",
       "    </tr>\n",
       "  </thead>\n",
       "  <tbody>\n",
       "    <tr>\n",
       "      <th>0</th>\n",
       "      <td>1</td>\n",
       "      <td>4</td>\n",
       "      <td>2</td>\n",
       "      <td>177</td>\n",
       "      <td>3</td>\n",
       "      <td>0</td>\n",
       "      <td>0</td>\n",
       "      <td>44</td>\n",
       "      <td>1233</td>\n",
       "      <td>1</td>\n",
       "      <td>...</td>\n",
       "      <td>0</td>\n",
       "      <td>0</td>\n",
       "      <td>1</td>\n",
       "      <td>0</td>\n",
       "      <td>1</td>\n",
       "      <td>0</td>\n",
       "      <td>0</td>\n",
       "      <td>0</td>\n",
       "      <td>1</td>\n",
       "      <td>0</td>\n",
       "    </tr>\n",
       "    <tr>\n",
       "      <th>1</th>\n",
       "      <td>1</td>\n",
       "      <td>4</td>\n",
       "      <td>5</td>\n",
       "      <td>216</td>\n",
       "      <td>2</td>\n",
       "      <td>0</td>\n",
       "      <td>1</td>\n",
       "      <td>59</td>\n",
       "      <td>3088</td>\n",
       "      <td>1</td>\n",
       "      <td>...</td>\n",
       "      <td>0</td>\n",
       "      <td>0</td>\n",
       "      <td>1</td>\n",
       "      <td>0</td>\n",
       "      <td>1</td>\n",
       "      <td>0</td>\n",
       "      <td>0</td>\n",
       "      <td>0</td>\n",
       "      <td>0</td>\n",
       "      <td>1</td>\n",
       "    </tr>\n",
       "    <tr>\n",
       "      <th>2</th>\n",
       "      <td>1</td>\n",
       "      <td>2</td>\n",
       "      <td>2</td>\n",
       "      <td>183</td>\n",
       "      <td>4</td>\n",
       "      <td>0</td>\n",
       "      <td>1</td>\n",
       "      <td>48</td>\n",
       "      <td>3374</td>\n",
       "      <td>1</td>\n",
       "      <td>...</td>\n",
       "      <td>0</td>\n",
       "      <td>0</td>\n",
       "      <td>1</td>\n",
       "      <td>0</td>\n",
       "      <td>1</td>\n",
       "      <td>1</td>\n",
       "      <td>0</td>\n",
       "      <td>0</td>\n",
       "      <td>0</td>\n",
       "      <td>0</td>\n",
       "    </tr>\n",
       "    <tr>\n",
       "      <th>3</th>\n",
       "      <td>1</td>\n",
       "      <td>3</td>\n",
       "      <td>3</td>\n",
       "      <td>176</td>\n",
       "      <td>4</td>\n",
       "      <td>1</td>\n",
       "      <td>1</td>\n",
       "      <td>10</td>\n",
       "      <td>1177</td>\n",
       "      <td>1</td>\n",
       "      <td>...</td>\n",
       "      <td>0</td>\n",
       "      <td>0</td>\n",
       "      <td>1</td>\n",
       "      <td>1</td>\n",
       "      <td>0</td>\n",
       "      <td>0</td>\n",
       "      <td>1</td>\n",
       "      <td>0</td>\n",
       "      <td>0</td>\n",
       "      <td>0</td>\n",
       "    </tr>\n",
       "    <tr>\n",
       "      <th>4</th>\n",
       "      <td>1</td>\n",
       "      <td>2</td>\n",
       "      <td>2</td>\n",
       "      <td>184</td>\n",
       "      <td>3</td>\n",
       "      <td>1</td>\n",
       "      <td>0</td>\n",
       "      <td>46</td>\n",
       "      <td>2484</td>\n",
       "      <td>1</td>\n",
       "      <td>...</td>\n",
       "      <td>0</td>\n",
       "      <td>0</td>\n",
       "      <td>1</td>\n",
       "      <td>0</td>\n",
       "      <td>1</td>\n",
       "      <td>0</td>\n",
       "      <td>0</td>\n",
       "      <td>1</td>\n",
       "      <td>0</td>\n",
       "      <td>0</td>\n",
       "    </tr>\n",
       "  </tbody>\n",
       "</table>\n",
       "<p>5 rows × 35 columns</p>\n",
       "</div>"
      ],
      "text/plain": [
       "   modo_envio  numero_chamadas_cliente  avaliacao_cliente  custo_produto  \\\n",
       "0           1                        4                  2            177   \n",
       "1           1                        4                  5            216   \n",
       "2           1                        2                  2            183   \n",
       "3           1                        3                  3            176   \n",
       "4           1                        2                  2            184   \n",
       "\n",
       "   compras_anteriores  prioridade_produto  genero  desconto  peso_gramas  \\\n",
       "0                   3                   0       0        44         1233   \n",
       "1                   2                   0       1        59         3088   \n",
       "2                   4                   0       1        48         3374   \n",
       "3                   4                   1       1        10         1177   \n",
       "4                   3                   1       0        46         2484   \n",
       "\n",
       "   entregue_no_prazo  ... performance_prioridade_envio_Atraso Problemático  \\\n",
       "0                  1  ...                                                0   \n",
       "1                  1  ...                                                0   \n",
       "2                  1  ...                                                0   \n",
       "3                  1  ...                                                0   \n",
       "4                  1  ...                                                0   \n",
       "\n",
       "   performance_prioridade_envio_Atraso Tolerável  \\\n",
       "0                                              0   \n",
       "1                                              0   \n",
       "2                                              0   \n",
       "3                                              0   \n",
       "4                                              0   \n",
       "\n",
       "   performance_prioridade_envio_Não Houve Atraso  \\\n",
       "0                                              1   \n",
       "1                                              1   \n",
       "2                                              1   \n",
       "3                                              1   \n",
       "4                                              1   \n",
       "\n",
       "   faixa_desconto_desconto abaixo da média  \\\n",
       "0                                        0   \n",
       "1                                        0   \n",
       "2                                        0   \n",
       "3                                        1   \n",
       "4                                        0   \n",
       "\n",
       "   faixa_desconto_desconto acima da média  corredor_armazem_A  \\\n",
       "0                                       1                   0   \n",
       "1                                       1                   0   \n",
       "2                                       1                   1   \n",
       "3                                       0                   0   \n",
       "4                                       1                   0   \n",
       "\n",
       "   corredor_armazem_B  corredor_armazem_C  corredor_armazem_D  \\\n",
       "0                   0                   0                   1   \n",
       "1                   0                   0                   0   \n",
       "2                   0                   0                   0   \n",
       "3                   1                   0                   0   \n",
       "4                   0                   1                   0   \n",
       "\n",
       "   corredor_armazem_F  \n",
       "0                   0  \n",
       "1                   1  \n",
       "2                   0  \n",
       "3                   0  \n",
       "4                   0  \n",
       "\n",
       "[5 rows x 35 columns]"
      ]
     },
     "execution_count": 34,
     "metadata": {},
     "output_type": "execute_result"
    }
   ],
   "source": [
    "df.head()"
   ]
  },
  {
   "cell_type": "markdown",
   "id": "975da265",
   "metadata": {},
   "source": [
    "# Feature Scaling"
   ]
  },
  {
   "cell_type": "markdown",
   "id": "31f715cb",
   "metadata": {},
   "source": [
    "## Normalização"
   ]
  },
  {
   "cell_type": "code",
   "execution_count": 35,
   "id": "cc526013",
   "metadata": {
    "ExecuteTime": {
     "end_time": "2022-05-17T23:38:51.348275Z",
     "start_time": "2022-05-17T23:38:51.338301Z"
    }
   },
   "outputs": [
    {
     "data": {
      "text/plain": [
       "Index(['modo_envio', 'numero_chamadas_cliente', 'avaliacao_cliente',\n",
       "       'custo_produto', 'compras_anteriores', 'prioridade_produto', 'genero',\n",
       "       'desconto', 'peso_gramas', 'entregue_no_prazo', 'faixa_peso',\n",
       "       'performance_faixa_desconto_Atraso na Entrega com Desconto Abaixo da Média',\n",
       "       'performance_faixa_desconto_Entrega no Prazo com Desconto Abaixo da Média',\n",
       "       'performance_faixa_desconto_Entrega no Prazo com Desconto Acima da Média',\n",
       "       'performance_modo_envio_Atraso Crítico na Entrega Por Aviao',\n",
       "       'performance_modo_envio_Atraso Crítico na Entrega Por Caminhao',\n",
       "       'performance_modo_envio_Atraso Crítico na Entrega Por Navio',\n",
       "       'performance_modo_envio_Atraso Problemático na Entrega Por Aviao',\n",
       "       'performance_modo_envio_Atraso Problemático na Entrega Por Caminhao',\n",
       "       'performance_modo_envio_Atraso Problemático na Entrega Por Navio',\n",
       "       'performance_modo_envio_Atraso Tolerável na Entrega Por Aviao',\n",
       "       'performance_modo_envio_Atraso Tolerável na Entrega Por Caminhao',\n",
       "       'performance_modo_envio_Atraso Tolerável na Entrega Por Navio',\n",
       "       'performance_modo_envio_Não Houve Atraso',\n",
       "       'performance_prioridade_envio_Atraso Crítico',\n",
       "       'performance_prioridade_envio_Atraso Problemático',\n",
       "       'performance_prioridade_envio_Atraso Tolerável',\n",
       "       'performance_prioridade_envio_Não Houve Atraso',\n",
       "       'faixa_desconto_desconto abaixo da média',\n",
       "       'faixa_desconto_desconto acima da média', 'corredor_armazem_A',\n",
       "       'corredor_armazem_B', 'corredor_armazem_C', 'corredor_armazem_D',\n",
       "       'corredor_armazem_F'],\n",
       "      dtype='object')"
      ]
     },
     "execution_count": 35,
     "metadata": {},
     "output_type": "execute_result"
    }
   ],
   "source": [
    "df.columns"
   ]
  },
  {
   "cell_type": "code",
   "execution_count": 37,
   "id": "17f70e3c",
   "metadata": {
    "ExecuteTime": {
     "end_time": "2022-05-17T23:43:08.845127Z",
     "start_time": "2022-05-17T23:43:08.813882Z"
    }
   },
   "outputs": [],
   "source": [
    "df['peso_gramas'] = MinMaxScaler().fit_transform(df['peso_gramas'].values.reshape(len(df),1))"
   ]
  },
  {
   "cell_type": "code",
   "execution_count": 39,
   "id": "9a61b4f2",
   "metadata": {
    "ExecuteTime": {
     "end_time": "2022-05-17T23:43:51.859035Z",
     "start_time": "2022-05-17T23:43:51.847971Z"
    }
   },
   "outputs": [
    {
     "data": {
      "text/plain": [
       "2834     0.142148\n",
       "5282     0.039445\n",
       "3376     0.532213\n",
       "5153     0.580131\n",
       "10253    0.571220\n",
       "Name: peso_gramas, dtype: float64"
      ]
     },
     "execution_count": 39,
     "metadata": {},
     "output_type": "execute_result"
    }
   ],
   "source": [
    "df['peso_gramas'].sample(5)"
   ]
  },
  {
   "cell_type": "code",
   "execution_count": 40,
   "id": "c7952a87",
   "metadata": {
    "ExecuteTime": {
     "end_time": "2022-05-17T23:44:42.024129Z",
     "start_time": "2022-05-17T23:44:42.010167Z"
    }
   },
   "outputs": [],
   "source": [
    "df['custo_produto'] = MinMaxScaler().fit_transform(df['custo_produto'].values.reshape(len(df),1))"
   ]
  },
  {
   "cell_type": "code",
   "execution_count": 41,
   "id": "81651058",
   "metadata": {
    "ExecuteTime": {
     "end_time": "2022-05-17T23:44:53.229888Z",
     "start_time": "2022-05-17T23:44:53.214259Z"
    }
   },
   "outputs": [
    {
     "data": {
      "text/plain": [
       "1094    0.415888\n",
       "3918    0.345794\n",
       "3050    0.686916\n",
       "9579    0.373832\n",
       "1259    0.224299\n",
       "Name: custo_produto, dtype: float64"
      ]
     },
     "execution_count": 41,
     "metadata": {},
     "output_type": "execute_result"
    }
   ],
   "source": [
    "df['custo_produto'].sample(5)"
   ]
  },
  {
   "cell_type": "markdown",
   "id": "23fc1372",
   "metadata": {},
   "source": [
    "## Padronização"
   ]
  },
  {
   "cell_type": "code",
   "execution_count": 42,
   "id": "7febf8a2",
   "metadata": {
    "ExecuteTime": {
     "end_time": "2022-05-17T23:48:09.804438Z",
     "start_time": "2022-05-17T23:48:09.792470Z"
    }
   },
   "outputs": [
    {
     "data": {
      "text/plain": [
       "Index(['modo_envio', 'numero_chamadas_cliente', 'avaliacao_cliente',\n",
       "       'custo_produto', 'compras_anteriores', 'prioridade_produto', 'genero',\n",
       "       'desconto', 'peso_gramas', 'entregue_no_prazo', 'faixa_peso',\n",
       "       'performance_faixa_desconto_Atraso na Entrega com Desconto Abaixo da Média',\n",
       "       'performance_faixa_desconto_Entrega no Prazo com Desconto Abaixo da Média',\n",
       "       'performance_faixa_desconto_Entrega no Prazo com Desconto Acima da Média',\n",
       "       'performance_modo_envio_Atraso Crítico na Entrega Por Aviao',\n",
       "       'performance_modo_envio_Atraso Crítico na Entrega Por Caminhao',\n",
       "       'performance_modo_envio_Atraso Crítico na Entrega Por Navio',\n",
       "       'performance_modo_envio_Atraso Problemático na Entrega Por Aviao',\n",
       "       'performance_modo_envio_Atraso Problemático na Entrega Por Caminhao',\n",
       "       'performance_modo_envio_Atraso Problemático na Entrega Por Navio',\n",
       "       'performance_modo_envio_Atraso Tolerável na Entrega Por Aviao',\n",
       "       'performance_modo_envio_Atraso Tolerável na Entrega Por Caminhao',\n",
       "       'performance_modo_envio_Atraso Tolerável na Entrega Por Navio',\n",
       "       'performance_modo_envio_Não Houve Atraso',\n",
       "       'performance_prioridade_envio_Atraso Crítico',\n",
       "       'performance_prioridade_envio_Atraso Problemático',\n",
       "       'performance_prioridade_envio_Atraso Tolerável',\n",
       "       'performance_prioridade_envio_Não Houve Atraso',\n",
       "       'faixa_desconto_desconto abaixo da média',\n",
       "       'faixa_desconto_desconto acima da média', 'corredor_armazem_A',\n",
       "       'corredor_armazem_B', 'corredor_armazem_C', 'corredor_armazem_D',\n",
       "       'corredor_armazem_F'],\n",
       "      dtype='object')"
      ]
     },
     "execution_count": 42,
     "metadata": {},
     "output_type": "execute_result"
    }
   ],
   "source": [
    "df.columns"
   ]
  },
  {
   "cell_type": "code",
   "execution_count": 43,
   "id": "f8103c4b",
   "metadata": {
    "ExecuteTime": {
     "end_time": "2022-05-17T23:49:06.526444Z",
     "start_time": "2022-05-17T23:49:06.520462Z"
    }
   },
   "outputs": [],
   "source": [
    "df['desconto'] = StandardScaler().fit_transform(df['desconto'].values.reshape(len(df),1))"
   ]
  },
  {
   "cell_type": "code",
   "execution_count": 45,
   "id": "ec8bae35",
   "metadata": {
    "ExecuteTime": {
     "end_time": "2022-05-17T23:49:17.613079Z",
     "start_time": "2022-05-17T23:49:17.593142Z"
    }
   },
   "outputs": [
    {
     "data": {
      "text/plain": [
       "1313    0.298304\n",
       "6705   -0.635573\n",
       "1848    3.166641\n",
       "7598   -0.702279\n",
       "7302   -0.235340\n",
       "Name: desconto, dtype: float64"
      ]
     },
     "execution_count": 45,
     "metadata": {},
     "output_type": "execute_result"
    }
   ],
   "source": [
    "df['desconto'].sample(5)"
   ]
  },
  {
   "cell_type": "code",
   "execution_count": 47,
   "id": "ea003465",
   "metadata": {
    "ExecuteTime": {
     "end_time": "2022-05-17T23:49:59.336830Z",
     "start_time": "2022-05-17T23:49:59.323865Z"
    }
   },
   "outputs": [],
   "source": [
    "df['compras_anteriores'] = StandardScaler().fit_transform(df['compras_anteriores'].values.reshape(len(df),1))"
   ]
  },
  {
   "cell_type": "code",
   "execution_count": 48,
   "id": "e23130e4",
   "metadata": {
    "ExecuteTime": {
     "end_time": "2022-05-17T23:50:07.072356Z",
     "start_time": "2022-05-17T23:50:07.053416Z"
    }
   },
   "outputs": [
    {
     "data": {
      "text/plain": [
       "10679   -1.135605\n",
       "7451     1.968008\n",
       "9993     0.416201\n",
       "4959     0.416201\n",
       "2340    -0.359702\n",
       "Name: compras_anteriores, dtype: float64"
      ]
     },
     "execution_count": 48,
     "metadata": {},
     "output_type": "execute_result"
    }
   ],
   "source": [
    "df['compras_anteriores'].sample(5)"
   ]
  },
  {
   "cell_type": "code",
   "execution_count": 49,
   "id": "7853480c",
   "metadata": {
    "ExecuteTime": {
     "end_time": "2022-05-17T23:50:54.995975Z",
     "start_time": "2022-05-17T23:50:54.976030Z"
    }
   },
   "outputs": [],
   "source": [
    "df['numero_chamadas_cliente'] = StandardScaler().fit_transform(df['numero_chamadas_cliente'].values.reshape(len(df),1))"
   ]
  },
  {
   "cell_type": "code",
   "execution_count": 50,
   "id": "366c2bcc",
   "metadata": {
    "ExecuteTime": {
     "end_time": "2022-05-17T23:51:01.689414Z",
     "start_time": "2022-05-17T23:51:01.672457Z"
    }
   },
   "outputs": [
    {
     "data": {
      "text/plain": [
       "704     0.815832\n",
       "7287   -0.930527\n",
       "4895   -0.930527\n",
       "6144    0.815832\n",
       "261    -1.803706\n",
       "Name: numero_chamadas_cliente, dtype: float64"
      ]
     },
     "execution_count": 50,
     "metadata": {},
     "output_type": "execute_result"
    }
   ],
   "source": [
    "df['numero_chamadas_cliente'].sample(5)"
   ]
  },
  {
   "cell_type": "code",
   "execution_count": 52,
   "id": "45858146",
   "metadata": {
    "ExecuteTime": {
     "end_time": "2022-05-17T23:51:47.062246Z",
     "start_time": "2022-05-17T23:51:47.052249Z"
    }
   },
   "outputs": [],
   "source": [
    "df['avaliacao_cliente'] = StandardScaler().fit_transform(df['avaliacao_cliente'].values.reshape(len(df),1))"
   ]
  },
  {
   "cell_type": "code",
   "execution_count": 53,
   "id": "0e6c936c",
   "metadata": {
    "ExecuteTime": {
     "end_time": "2022-05-17T23:51:59.273413Z",
     "start_time": "2022-05-17T23:51:59.235515Z"
    }
   },
   "outputs": [
    {
     "data": {
      "text/html": [
       "<div>\n",
       "<style scoped>\n",
       "    .dataframe tbody tr th:only-of-type {\n",
       "        vertical-align: middle;\n",
       "    }\n",
       "\n",
       "    .dataframe tbody tr th {\n",
       "        vertical-align: top;\n",
       "    }\n",
       "\n",
       "    .dataframe thead th {\n",
       "        text-align: right;\n",
       "    }\n",
       "</style>\n",
       "<table border=\"1\" class=\"dataframe\">\n",
       "  <thead>\n",
       "    <tr style=\"text-align: right;\">\n",
       "      <th></th>\n",
       "      <th>modo_envio</th>\n",
       "      <th>numero_chamadas_cliente</th>\n",
       "      <th>avaliacao_cliente</th>\n",
       "      <th>custo_produto</th>\n",
       "      <th>compras_anteriores</th>\n",
       "      <th>prioridade_produto</th>\n",
       "      <th>genero</th>\n",
       "      <th>desconto</th>\n",
       "      <th>peso_gramas</th>\n",
       "      <th>entregue_no_prazo</th>\n",
       "      <th>...</th>\n",
       "      <th>performance_prioridade_envio_Atraso Problemático</th>\n",
       "      <th>performance_prioridade_envio_Atraso Tolerável</th>\n",
       "      <th>performance_prioridade_envio_Não Houve Atraso</th>\n",
       "      <th>faixa_desconto_desconto abaixo da média</th>\n",
       "      <th>faixa_desconto_desconto acima da média</th>\n",
       "      <th>corredor_armazem_A</th>\n",
       "      <th>corredor_armazem_B</th>\n",
       "      <th>corredor_armazem_C</th>\n",
       "      <th>corredor_armazem_D</th>\n",
       "      <th>corredor_armazem_F</th>\n",
       "    </tr>\n",
       "  </thead>\n",
       "  <tbody>\n",
       "    <tr>\n",
       "      <th>9473</th>\n",
       "      <td>0</td>\n",
       "      <td>0.815832</td>\n",
       "      <td>-1.408469</td>\n",
       "      <td>0.191589</td>\n",
       "      <td>-0.359702</td>\n",
       "      <td>1</td>\n",
       "      <td>0</td>\n",
       "      <td>-0.168635</td>\n",
       "      <td>0.531775</td>\n",
       "      <td>0</td>\n",
       "      <td>...</td>\n",
       "      <td>1</td>\n",
       "      <td>0</td>\n",
       "      <td>0</td>\n",
       "      <td>1</td>\n",
       "      <td>0</td>\n",
       "      <td>0</td>\n",
       "      <td>0</td>\n",
       "      <td>0</td>\n",
       "      <td>0</td>\n",
       "      <td>1</td>\n",
       "    </tr>\n",
       "    <tr>\n",
       "      <th>3309</th>\n",
       "      <td>0</td>\n",
       "      <td>-0.057348</td>\n",
       "      <td>0.007718</td>\n",
       "      <td>0.817757</td>\n",
       "      <td>-0.359702</td>\n",
       "      <td>1</td>\n",
       "      <td>1</td>\n",
       "      <td>-0.768984</td>\n",
       "      <td>0.458145</td>\n",
       "      <td>0</td>\n",
       "      <td>...</td>\n",
       "      <td>1</td>\n",
       "      <td>0</td>\n",
       "      <td>0</td>\n",
       "      <td>1</td>\n",
       "      <td>0</td>\n",
       "      <td>0</td>\n",
       "      <td>1</td>\n",
       "      <td>0</td>\n",
       "      <td>0</td>\n",
       "      <td>0</td>\n",
       "    </tr>\n",
       "    <tr>\n",
       "      <th>794</th>\n",
       "      <td>0</td>\n",
       "      <td>-0.057348</td>\n",
       "      <td>1.423904</td>\n",
       "      <td>0.742991</td>\n",
       "      <td>0.416201</td>\n",
       "      <td>0</td>\n",
       "      <td>1</td>\n",
       "      <td>0.098187</td>\n",
       "      <td>0.306501</td>\n",
       "      <td>1</td>\n",
       "      <td>...</td>\n",
       "      <td>0</td>\n",
       "      <td>0</td>\n",
       "      <td>1</td>\n",
       "      <td>0</td>\n",
       "      <td>1</td>\n",
       "      <td>1</td>\n",
       "      <td>0</td>\n",
       "      <td>0</td>\n",
       "      <td>0</td>\n",
       "      <td>0</td>\n",
       "    </tr>\n",
       "    <tr>\n",
       "      <th>461</th>\n",
       "      <td>0</td>\n",
       "      <td>-0.930527</td>\n",
       "      <td>0.715811</td>\n",
       "      <td>0.579439</td>\n",
       "      <td>2.743911</td>\n",
       "      <td>0</td>\n",
       "      <td>1</td>\n",
       "      <td>2.032647</td>\n",
       "      <td>0.236523</td>\n",
       "      <td>1</td>\n",
       "      <td>...</td>\n",
       "      <td>0</td>\n",
       "      <td>0</td>\n",
       "      <td>1</td>\n",
       "      <td>0</td>\n",
       "      <td>1</td>\n",
       "      <td>0</td>\n",
       "      <td>0</td>\n",
       "      <td>0</td>\n",
       "      <td>0</td>\n",
       "      <td>1</td>\n",
       "    </tr>\n",
       "    <tr>\n",
       "      <th>3145</th>\n",
       "      <td>2</td>\n",
       "      <td>-0.930527</td>\n",
       "      <td>1.423904</td>\n",
       "      <td>0.186916</td>\n",
       "      <td>-1.135605</td>\n",
       "      <td>2</td>\n",
       "      <td>0</td>\n",
       "      <td>-0.768984</td>\n",
       "      <td>0.579985</td>\n",
       "      <td>0</td>\n",
       "      <td>...</td>\n",
       "      <td>0</td>\n",
       "      <td>0</td>\n",
       "      <td>0</td>\n",
       "      <td>1</td>\n",
       "      <td>0</td>\n",
       "      <td>0</td>\n",
       "      <td>0</td>\n",
       "      <td>0</td>\n",
       "      <td>0</td>\n",
       "      <td>1</td>\n",
       "    </tr>\n",
       "  </tbody>\n",
       "</table>\n",
       "<p>5 rows × 35 columns</p>\n",
       "</div>"
      ],
      "text/plain": [
       "      modo_envio  numero_chamadas_cliente  avaliacao_cliente  custo_produto  \\\n",
       "9473           0                 0.815832          -1.408469       0.191589   \n",
       "3309           0                -0.057348           0.007718       0.817757   \n",
       "794            0                -0.057348           1.423904       0.742991   \n",
       "461            0                -0.930527           0.715811       0.579439   \n",
       "3145           2                -0.930527           1.423904       0.186916   \n",
       "\n",
       "      compras_anteriores  prioridade_produto  genero  desconto  peso_gramas  \\\n",
       "9473           -0.359702                   1       0 -0.168635     0.531775   \n",
       "3309           -0.359702                   1       1 -0.768984     0.458145   \n",
       "794             0.416201                   0       1  0.098187     0.306501   \n",
       "461             2.743911                   0       1  2.032647     0.236523   \n",
       "3145           -1.135605                   2       0 -0.768984     0.579985   \n",
       "\n",
       "      entregue_no_prazo  ... performance_prioridade_envio_Atraso Problemático  \\\n",
       "9473                  0  ...                                                1   \n",
       "3309                  0  ...                                                1   \n",
       "794                   1  ...                                                0   \n",
       "461                   1  ...                                                0   \n",
       "3145                  0  ...                                                0   \n",
       "\n",
       "      performance_prioridade_envio_Atraso Tolerável  \\\n",
       "9473                                              0   \n",
       "3309                                              0   \n",
       "794                                               0   \n",
       "461                                               0   \n",
       "3145                                              0   \n",
       "\n",
       "      performance_prioridade_envio_Não Houve Atraso  \\\n",
       "9473                                              0   \n",
       "3309                                              0   \n",
       "794                                               1   \n",
       "461                                               1   \n",
       "3145                                              0   \n",
       "\n",
       "      faixa_desconto_desconto abaixo da média  \\\n",
       "9473                                        1   \n",
       "3309                                        1   \n",
       "794                                         0   \n",
       "461                                         0   \n",
       "3145                                        1   \n",
       "\n",
       "      faixa_desconto_desconto acima da média  corredor_armazem_A  \\\n",
       "9473                                       0                   0   \n",
       "3309                                       0                   0   \n",
       "794                                        1                   1   \n",
       "461                                        1                   0   \n",
       "3145                                       0                   0   \n",
       "\n",
       "      corredor_armazem_B  corredor_armazem_C  corredor_armazem_D  \\\n",
       "9473                   0                   0                   0   \n",
       "3309                   1                   0                   0   \n",
       "794                    0                   0                   0   \n",
       "461                    0                   0                   0   \n",
       "3145                   0                   0                   0   \n",
       "\n",
       "      corredor_armazem_F  \n",
       "9473                   1  \n",
       "3309                   0  \n",
       "794                    0  \n",
       "461                    1  \n",
       "3145                   1  \n",
       "\n",
       "[5 rows x 35 columns]"
      ]
     },
     "execution_count": 53,
     "metadata": {},
     "output_type": "execute_result"
    }
   ],
   "source": [
    "df.sample(5)"
   ]
  },
  {
   "cell_type": "markdown",
   "id": "f3b3c5ee",
   "metadata": {
    "heading_collapsed": true
   },
   "source": [
    "# Salvando o Dataset na Máquina Local"
   ]
  },
  {
   "cell_type": "code",
   "execution_count": 54,
   "id": "42718537",
   "metadata": {
    "ExecuteTime": {
     "end_time": "2022-05-17T23:53:02.214077Z",
     "start_time": "2022-05-17T23:53:01.887527Z"
    },
    "hidden": true
   },
   "outputs": [],
   "source": [
    "df.to_csv('dados/dataset_final.csv', sep = ',', encoding = 'utf-8')"
   ]
  },
  {
   "cell_type": "code",
   "execution_count": null,
   "id": "3882e171",
   "metadata": {
    "hidden": true
   },
   "outputs": [],
   "source": []
  }
 ],
 "metadata": {
  "kernelspec": {
   "display_name": "Python 3 (ipykernel)",
   "language": "python",
   "name": "python3"
  },
  "language_info": {
   "codemirror_mode": {
    "name": "ipython",
    "version": 3
   },
   "file_extension": ".py",
   "mimetype": "text/x-python",
   "name": "python",
   "nbconvert_exporter": "python",
   "pygments_lexer": "ipython3",
   "version": "3.9.7"
  }
 },
 "nbformat": 4,
 "nbformat_minor": 5
}
